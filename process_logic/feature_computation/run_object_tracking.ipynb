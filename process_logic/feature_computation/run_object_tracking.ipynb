{
 "cells": [
  {
   "cell_type": "code",
   "execution_count": 21,
   "metadata": {},
   "outputs": [],
   "source": [
    "import sys\n",
    "import os\n",
    "package_root = os.path.abspath(os.path.join(os.getcwd(), '..'))\n",
    "sys.path.insert(0, package_root)"
   ]
  },
  {
   "cell_type": "code",
   "execution_count": 22,
   "metadata": {},
   "outputs": [],
   "source": [
    "from image_acquisition.image_sensor import *\n",
    "from image_acquisition.playback_images import *\n",
    "from image_acquisition.video_file_writer import *\n",
    "#from image_acquisition.ueye_python_driver import UEyePythonDriver\n",
    "\n",
    "from feature_computation.object_tracking import *\n",
    "from feature_computation.object_detection_and_tracking import *\n",
    "from feature_computation.visualization import *\n",
    "\n",
    "import matplotlib as plt"
   ]
  },
  {
   "cell_type": "code",
   "execution_count": 23,
   "metadata": {},
   "outputs": [],
   "source": [
    "# Load the ONNX model\n",
    "\n",
    "output_path = \"../../../../PRISM/Daten/makerspace_20241126/output/object_tracking_20241127.mp4\"\n",
    "raw_output_path =  \"../../../../PRISM/Daten/makerspace_20241126/output/object_tracking_raw_20241127.mp4\"\n",
    "\n",
    "\n",
    "onnx_model_path = \"../../../../PRISM/Daten/makerspace_20241126/export/onnx/simplified-model.onnx\"\n",
    "video_path = \"C:/Users/xfebloj/Videos/Captures/soldering_recordings/Stefan/rec_1.avi\"\n",
    "\n",
    "trackers = {\n",
    "   \"pad\": MultiObjectTracker(class_ids=[0,1,4,5], disappearance_threshold=-1, ratio_threshold=0.7),\n",
    "   \"cabel\": MultiObjectTracker(class_ids=2, disappearance_threshold=50, ratio_threshold=0.7),\n",
    "   \"soldering_iron\": KalmanFilterTracker(class_ids=3, ratio_threshold=0.7)\n",
    "}"
   ]
  },
  {
   "cell_type": "code",
   "execution_count": 24,
   "metadata": {},
   "outputs": [],
   "source": [
    "\n",
    "visualizer = ObjectTrackerVisualization(trackers)"
   ]
  },
  {
   "cell_type": "code",
   "execution_count": 25,
   "metadata": {},
   "outputs": [
    {
     "name": "stdout",
     "output_type": "stream",
     "text": [
      "onnx_session profile:  \n"
     ]
    }
   ],
   "source": [
    "try:\n",
    "    with VideoFileImageSensor(video_path=video_path) as img_src:\n",
    "    #with UEyePythonDriver() as img_src:\n",
    "        with video_file_writer_matching_image_sensor(img_src, output_path) as writer:\n",
    "            with onnx_network_and_trackers(onnx_model_path, trackers.values()) as network_and_trackers:\n",
    "\n",
    "                def callback(frame:np.ndarray):\n",
    "                    network_and_trackers.update_trackers(frame)\n",
    "                    disp_img = frame.copy()\n",
    "                    visualizer.draw_visualization_on_frame(disp_img)\n",
    "\n",
    "                    cv2.imshow(\"object tracking\", disp_img)\n",
    "\n",
    "                    writer.write(disp_img)\n",
    "\n",
    "                    \n",
    "\n",
    "                    # Check if 'q' is pressed to quit\n",
    "                    if cv2.waitKey(1) & 0xFF == ord('q'):\n",
    "                        raise NoMoreImages\n",
    "\n",
    "\n",
    "                run_playback(img_src, callback)\n",
    "finally:\n",
    "    cv2.destroyAllWindows()"
   ]
  }
 ],
 "metadata": {
  "kernelspec": {
   "display_name": "p3_10_PRISM",
   "language": "python",
   "name": "python3"
  },
  "language_info": {
   "codemirror_mode": {
    "name": "ipython",
    "version": 3
   },
   "file_extension": ".py",
   "mimetype": "text/x-python",
   "name": "python",
   "nbconvert_exporter": "python",
   "pygments_lexer": "ipython3",
   "version": "3.10.15"
  }
 },
 "nbformat": 4,
 "nbformat_minor": 2
}
