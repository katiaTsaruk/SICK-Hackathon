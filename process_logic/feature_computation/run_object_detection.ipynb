{
 "cells": [
  {
   "cell_type": "code",
   "execution_count": 6,
   "metadata": {},
   "outputs": [],
   "source": [
    "import sys\n",
    "import os\n",
    "package_root = os.path.abspath(os.path.join(os.getcwd(), '..'))\n",
    "sys.path.insert(0, package_root)"
   ]
  },
  {
   "cell_type": "code",
   "execution_count": 7,
   "metadata": {},
   "outputs": [],
   "source": [
    "from image_acquisition.image_sensor import *\n",
    "from image_acquisition.playback_images import *\n",
    "from image_acquisition.video_file_writer import *\n",
    "#from image_acquisition.ueye_python_driver import UEyePythonDriver\n",
    "\n",
    "from feature_computation.object_tracking import *\n",
    "from feature_computation.object_detection_and_tracking import *\n",
    "from feature_computation.visualization import *\n",
    "\n",
    "import matplotlib as plt"
   ]
  },
  {
   "cell_type": "code",
   "execution_count": 8,
   "metadata": {},
   "outputs": [
    {
     "name": "stdout",
     "output_type": "stream",
     "text": [
      "Absolute Path: c:\\Users\\xfebloj\\Documents\\Projekte\\PRISM\\Daten\\makerspace_20241126\\export\\onnx\\simplified-model.onnx\n",
      "abs path: c:\\Users\\xfebloj\\Documents\\Projekte\\PRISM\\Daten\\makerspace_20241126\\videos\\rec_1.avi\n"
     ]
    }
   ],
   "source": [
    "# Load the ONNX model\n",
    "\n",
    "onnx_model_path = \"../../../../PRISM/Daten/makerspace_20241126/export/onnx/simplified-model.onnx\"\n",
    "\n",
    "\n",
    "print(\"Absolute Path:\", os.path.abspath(onnx_model_path))\n",
    "video_path = \"../../../../PRISM/Daten/makerspace_20241126/videos/rec_1.avi\"\n",
    "print(\"abs path:\", os.path.abspath(video_path))\n",
    "output_path = \"../../PRISM/Daten/WLA16/object_detection/default.avi\"\n",
    "\n",
    "\n",
    "no_classes = 6"
   ]
  },
  {
   "cell_type": "code",
   "execution_count": 9,
   "metadata": {},
   "outputs": [],
   "source": [
    "visualizer = ObjectDetectionVisualization(no_classes)"
   ]
  },
  {
   "cell_type": "code",
   "execution_count": 10,
   "metadata": {},
   "outputs": [
    {
     "name": "stdout",
     "output_type": "stream",
     "text": [
      "onnx_session profile:  \n"
     ]
    }
   ],
   "source": [
    "try:\n",
    "    with DirectoryImageSensor(directory_path=\"C:/Users/xfebloj/Documents/Projekte/prism/Daten/makerspace_20241126/videos/rec_3/\") as img_src:\n",
    "    #with VideoFileImageSensor(video_path=video_path) as img_src:\n",
    "    #with UEyePythonDriver() as img_src:\n",
    "        with video_file_writer_matching_image_sensor(img_src, output_path) as writer:\n",
    "            with  ONNXObjectDetector(onnx_model_path) as neural_network:\n",
    "\n",
    "                def callback(frame:np.ndarray):\n",
    "                    detections = neural_network.detect(frame)\n",
    "                    detections =  nms(detections, nms_thr=0.5, det_thr=0.5)\n",
    "                    \n",
    "                    disp_img = frame.copy()\n",
    "                    visualizer.draw_visualization_on_frame(disp_img,detections, show_class_id=True)\n",
    "\n",
    "                    cv2.imshow(\"object detection\", disp_img)\n",
    "\n",
    "                    writer.write(disp_img)\n",
    "\n",
    "                    # Check if 'q' is pressed to quit\n",
    "                    if cv2.waitKey(-1) & 0xFF == ord('q'):\n",
    "                        raise NoMoreImages\n",
    "\n",
    "\n",
    "                run_playback(img_src, callback)\n",
    "except Exception as e:\n",
    "    print(e)    \n",
    "\n",
    "finally:\n",
    "    cv2.destroyAllWindows()"
   ]
  }
 ],
 "metadata": {
  "kernelspec": {
   "display_name": "p3_10_PRISM",
   "language": "python",
   "name": "python3"
  },
  "language_info": {
   "codemirror_mode": {
    "name": "ipython",
    "version": 3
   },
   "file_extension": ".py",
   "mimetype": "text/x-python",
   "name": "python",
   "nbconvert_exporter": "python",
   "pygments_lexer": "ipython3",
   "version": "3.10.15"
  }
 },
 "nbformat": 4,
 "nbformat_minor": 2
}
