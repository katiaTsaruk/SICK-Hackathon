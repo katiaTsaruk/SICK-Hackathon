{
 "cells": [
  {
   "cell_type": "code",
   "execution_count": 22,
   "metadata": {},
   "outputs": [],
   "source": [
    "from image_acquisition.image_sensor import *\n",
    "from image_acquisition.playback_images import *\n",
    "from image_acquisition.video_file_writer import *\n",
    "#from image_acquisition.ueye_python_driver import UEyePythonDriver\n",
    "\n",
    "from feature_computation.object_tracking import *\n",
    "from feature_computation.object_detection_and_tracking import *\n",
    "from feature_computation.visualization import *\n",
    "\n",
    "import matplotlib as plt"
   ]
  },
  {
   "cell_type": "code",
   "execution_count": 23,
   "metadata": {},
   "outputs": [
    {
     "name": "stdout",
     "output_type": "stream",
     "text": [
      "C:\\Users\\xfebloj\\Documents\\Projekte\\prism\\Daten\\makerspace_20241126\\export\\onnx\\simplified-model.onnx\n"
     ]
    }
   ],
   "source": [
    "# Load the ONNX model\n",
    "\n",
    "output_path = \"../../../Daten/makerspace_20241126/output/object_tracking_20241127.mp4\"\n",
    "raw_output_path =  \"../../../Daten/makerspace_20241126/output/object_tracking_raw_20241127.mp4\"\n",
    "\n",
    "\n",
    "onnx_model_path = \"../../Daten/makerspace_20241126/export/onnx/simplified-model.onnx\"\n",
    "print(os.path.realpath(onnx_model_path))\n",
    "video_path = \"../../Daten/makerspace_20241126/soldering_recordings/Stefan/rec_1.avi\"\n",
    "\n",
    "trackers = {\n",
    "   \"pad\": MultiObjectTracker(class_ids=[0,1,4,5], disappearance_threshold=-1, ratio_threshold=0.7),\n",
    "   \"cabel\": MultiObjectTracker(class_ids=2, disappearance_threshold=50, ratio_threshold=0.7),\n",
    "   \"soldering_iron\": KalmanFilterTracker(class_ids=3, ratio_threshold=0.7, disappearance_threshold=70)\n",
    "}"
   ]
  },
  {
   "cell_type": "code",
   "execution_count": 24,
   "metadata": {},
   "outputs": [],
   "source": [
    "\n",
    "visualizer = ObjectTrackerVisualization(trackers)"
   ]
  },
  {
   "cell_type": "code",
   "execution_count": 25,
   "metadata": {},
   "outputs": [],
   "source": [
    "import state_update as su\n",
    "\n",
    "pads = [su.pad(), su.pad()]"
   ]
  },
  {
   "cell_type": "code",
   "execution_count": 26,
   "metadata": {},
   "outputs": [
    {
     "ename": "RuntimeError",
     "evalue": "Video File not found or could not be opened",
     "output_type": "error",
     "traceback": [
      "\u001b[1;31m---------------------------------------------------------------------------\u001b[0m",
      "\u001b[1;31mRuntimeError\u001b[0m                              Traceback (most recent call last)",
      "Cell \u001b[1;32mIn[26], line 14\u001b[0m\n\u001b[0;32m     10\u001b[0m     \u001b[38;5;28;01mraise\u001b[39;00m \u001b[38;5;167;01mException\u001b[39;00m(\u001b[38;5;124m\"\u001b[39m\u001b[38;5;124munknown pad state\u001b[39m\u001b[38;5;124m\"\u001b[39m)\n\u001b[0;32m     13\u001b[0m \u001b[38;5;28;01mtry\u001b[39;00m:\n\u001b[1;32m---> 14\u001b[0m     \u001b[38;5;28;01mwith\u001b[39;00m VideoFileImageSensor(video_path\u001b[38;5;241m=\u001b[39mvideo_path) \u001b[38;5;28;01mas\u001b[39;00m img_src:\n\u001b[0;32m     15\u001b[0m     \u001b[38;5;66;03m#with UEyePythonDriver() as img_src:\u001b[39;00m\n\u001b[0;32m     16\u001b[0m         \u001b[38;5;28;01mwith\u001b[39;00m video_file_writer_matching_image_sensor(img_src, output_path) \u001b[38;5;28;01mas\u001b[39;00m writer:\n\u001b[0;32m     17\u001b[0m             \u001b[38;5;28;01mwith\u001b[39;00m onnx_network_and_trackers(onnx_model_path, trackers\u001b[38;5;241m.\u001b[39mvalues()) \u001b[38;5;28;01mas\u001b[39;00m network_and_trackers:\n",
      "File \u001b[1;32mc:\\Users\\xfebloj\\Documents\\Projekte\\prism\\SICK-Hackathon\\process_logic\\image_acquisition\\image_sensor.py:32\u001b[0m, in \u001b[0;36mVideoFileImageSensor.__enter__\u001b[1;34m(self)\u001b[0m\n\u001b[0;32m     30\u001b[0m \u001b[38;5;28mself\u001b[39m\u001b[38;5;241m.\u001b[39mcap \u001b[38;5;241m=\u001b[39m cv2\u001b[38;5;241m.\u001b[39mVideoCapture(\u001b[38;5;28mself\u001b[39m\u001b[38;5;241m.\u001b[39mvideo_path)\n\u001b[0;32m     31\u001b[0m \u001b[38;5;28;01mif\u001b[39;00m \u001b[38;5;129;01mnot\u001b[39;00m \u001b[38;5;28mself\u001b[39m\u001b[38;5;241m.\u001b[39mcap\u001b[38;5;241m.\u001b[39misOpened():\n\u001b[1;32m---> 32\u001b[0m     \u001b[38;5;28;01mraise\u001b[39;00m \u001b[38;5;167;01mRuntimeError\u001b[39;00m(\u001b[38;5;124m\"\u001b[39m\u001b[38;5;124mVideo File not found or could not be opened\u001b[39m\u001b[38;5;124m\"\u001b[39m)\n\u001b[0;32m     33\u001b[0m \u001b[38;5;28;01mreturn\u001b[39;00m \u001b[38;5;28mself\u001b[39m\n",
      "\u001b[1;31mRuntimeError\u001b[0m: Video File not found or could not be opened"
     ]
    }
   ],
   "source": [
    "def float_state_to_string_state(float_state):\n",
    "    if float_state == 0.0:\n",
    "        return \"presoldered\"\n",
    "    if float_state == 1.0:\n",
    "        return \"soldered\"\n",
    "    if float_state == 4.0:\n",
    "        return \"unsoldered\"\n",
    "    if float_state == 5.0:\n",
    "        return \"in_process\"\n",
    "    raise Exception(\"unknown pad state\")\n",
    "\n",
    "\n",
    "try:\n",
    "    with VideoFileImageSensor(video_path=video_path) as img_src:\n",
    "    #with UEyePythonDriver() as img_src:\n",
    "        with video_file_writer_matching_image_sensor(img_src, output_path) as writer:\n",
    "            with onnx_network_and_trackers(onnx_model_path, trackers.values()) as network_and_trackers:\n",
    "\n",
    "                def callback(frame:np.ndarray):\n",
    "                    network_and_trackers.update_trackers(frame)\n",
    "                    disp_img = frame.copy()\n",
    "                    visualizer.draw_visualization_on_frame(disp_img)\n",
    "\n",
    "\n",
    "                    height, width = disp_img.shape[:2]\n",
    "                    new_width = width // 3\n",
    "                    new_height = height // 3\n",
    "\n",
    "                    # Resize the image\n",
    "                    disp_img = cv2.resize(disp_img, (new_width, new_height), interpolation=cv2.INTER_AREA)\n",
    "                    cv2.imshow(\"object tracking\", disp_img)\n",
    "\n",
    "                    writer.write(disp_img)\n",
    "\n",
    "                    #update the global variables in state_update with data from object detection\n",
    "                    su.iron_pos = None\n",
    "\n",
    "                    for si in trackers[\"soldering_iron\"].get_objects():\n",
    "                        su.iron_pos = si.bounding_box\n",
    "                    \n",
    "                    su.wire_pos = []\n",
    "                    for w in trackers[\"cabel\"].get_objects():\n",
    "                        su.wire_pos.append(w.bounding_box)                        \n",
    "\n",
    "                    detected_pads = trackers[\"pad\"].get_objects()\n",
    "                    \n",
    "                    for dp in detected_pads:\n",
    "                        pads[dp.id].pad_pos = dp.bounding_box#\n",
    "                        pads[dp.id].pad_state = float_state_to_string_state(dp.state)\n",
    "\n",
    "\n",
    "                    for i, p in enumerate(pads):\n",
    "                        \n",
    "                        print(\"state of pad \", str(i), \": \", p.state_update())\n",
    "\n",
    "\n",
    "\n",
    "                    # Check if 'q' is pressed to quit\n",
    "                    if cv2.waitKey(1) & 0xFF == ord('q'):\n",
    "                        raise NoMoreImages\n",
    "\n",
    "\n",
    "                run_playback(img_src, callback)\n",
    "finally:\n",
    "    cv2.destroyAllWindows()"
   ]
  }
 ],
 "metadata": {
  "kernelspec": {
   "display_name": "p3_10_prism",
   "language": "python",
   "name": "python3"
  },
  "language_info": {
   "codemirror_mode": {
    "name": "ipython",
    "version": 3
   },
   "file_extension": ".py",
   "mimetype": "text/x-python",
   "name": "python",
   "nbconvert_exporter": "python",
   "pygments_lexer": "ipython3",
   "version": "3.10.15"
  }
 },
 "nbformat": 4,
 "nbformat_minor": 2
}
